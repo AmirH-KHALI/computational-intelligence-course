{
  "nbformat": 4,
  "nbformat_minor": 0,
  "metadata": {
    "colab": {
      "name": "CI992_HW3.ipynb",
      "provenance": [],
      "collapsed_sections": []
    },
    "kernelspec": {
      "name": "python3",
      "display_name": "Python 3"
    },
    "language_info": {
      "name": "python"
    }
  },
  "cells": [
    {
      "cell_type": "markdown",
      "metadata": {
        "id": "heBxPYfc0U22"
      },
      "source": [
        "# Your info\n",
        "\n",
        "Full name: AmirHossein Ahmadi\n",
        "\n",
        "Student ID: 97522292"
      ]
    },
    {
      "cell_type": "markdown",
      "metadata": {
        "id": "UBD007b3-ntJ"
      },
      "source": [
        "# Q1. Hopfield"
      ]
    },
    {
      "cell_type": "markdown",
      "metadata": {
        "id": "VAAR47H8-5ML"
      },
      "source": [
        "## Q1.2"
      ]
    },
    {
      "cell_type": "code",
      "metadata": {
        "id": "LV7Xa2Sx-6cV"
      },
      "source": [
        "# Q1.2_graded\n",
        "# Do not change the above line.\n",
        "\n",
        "import numpy as np\n",
        "import matplotlib.pyplot as plt"
      ],
      "execution_count": null,
      "outputs": []
    },
    {
      "cell_type": "code",
      "metadata": {
        "id": "bMIDe8oc_TLW"
      },
      "source": [
        "# Q1.2_graded\n",
        "# Do not change the above line.\n",
        "\n",
        "class HopfieldNet:\n",
        "\n",
        "    def __init__(self, n):\n",
        "        self.n = n\n",
        "        self.weights = np.zeros((n, n))\n",
        "\n",
        "    def train(self, input):\n",
        "        input = np.array([input])\n",
        "        \n",
        "        p = np.dot(input.T, input)\n",
        "\n",
        "        np.fill_diagonal(p, 0)\n",
        "        self.weights += p \n",
        "\n",
        "    def is_stable(self, input):\n",
        "        input = np.array(input)\n",
        "        dp = np.dot(self.weights, input)\n",
        "\n",
        "        signs = np.sign(dp)\n",
        "\n",
        "        return ((signs == input).all(), input, signs)\n"
      ],
      "execution_count": null,
      "outputs": []
    },
    {
      "cell_type": "code",
      "metadata": {
        "colab": {
          "base_uri": "https://localhost:8080/"
        },
        "id": "snDcYobTHW3e",
        "outputId": "cb4fa31e-5152-4cf7-d50e-4bbf241db247"
      },
      "source": [
        "# Q1.2_graded\n",
        "# Do not change the above line.\n",
        "\n",
        "def print_result(result):\n",
        "    if (result[0]):\n",
        "        print(result[1], 'is stable.')\n",
        "    else:\n",
        "        print(result[1], 'is unstable. nearest data: ', result[2])\n",
        "\n",
        "hn = HopfieldNet(6)\n",
        "\n",
        "hn.train([ 1, 1, 1,-1,-1,-1])\n",
        "hn.train([ 1,-1, 1,-1, 1,-1])\n",
        "\n",
        "print_result(hn.is_stable([ 1, 1, 1,-1,-1,-1]))\n",
        "print_result(hn.is_stable([-1, 1, 1,-1,-1,-1]))"
      ],
      "execution_count": null,
      "outputs": [
        {
          "output_type": "stream",
          "text": [
            "[ 1  1  1 -1 -1 -1] is stable.\n",
            "[-1  1  1 -1 -1 -1] is unstable. nearest data:  [ 1.  1.  1. -1. -1. -1.]\n"
          ],
          "name": "stdout"
        }
      ]
    },
    {
      "cell_type": "markdown",
      "metadata": {
        "id": "gMWCmByc-7H5"
      },
      "source": [
        "## Q1.3"
      ]
    },
    {
      "cell_type": "code",
      "metadata": {
        "id": "wpWMwI6z--GX"
      },
      "source": [
        "# Q1.3_graded\n",
        "# Do not change the above line.\n",
        "\n",
        "from PIL import Image, ImageFont\n",
        "import os\n",
        "import numpy as np\n",
        "import random"
      ],
      "execution_count": null,
      "outputs": []
    },
    {
      "cell_type": "code",
      "metadata": {
        "id": "kTmDh0Tw_Tuy"
      },
      "source": [
        "# Q1.3_graded\n",
        "# Do not change the above line.\n",
        "\n",
        "path = '/content/CI992/HW3/Q1.3'\n",
        "chars = 'ABCDEFGHIJ'\n",
        "fonts = [16, 32, 64]\n",
        "noise_list = [0.1, 0.3, 0.6]\n",
        "\n",
        "def generate_data():\n",
        "    for f in fonts:\n",
        "        font = ImageFont.truetype(f'{path}/arial.ttf', f)\n",
        "        for ch in chars:\n",
        "            im = Image.Image()._new(font.getmask(ch))\n",
        "            im.save(f'{path}/data/{ch}_{str(f)}.bmp')\n",
        "\n",
        "\n",
        "def get_noisy_image(img, noise):\n",
        "    img_arr = np.array(img)\n",
        "\n",
        "    pixels_num = img_arr.shape[0] * img_arr.shape[1]\n",
        "\n",
        "    new_image = np.copy(img_arr)\n",
        "    random_pixels = random.sample(range(0, pixels_num), \n",
        "                                  int(pixels_num * noise))\n",
        "\n",
        "    for pixel in random_pixels:\n",
        "        row = pixel // img_arr.shape[1]\n",
        "        col = pixel % img_arr.shape[1]\n",
        "        \n",
        "        if img_arr[row][col] > 128:\n",
        "            new_image[row][col] = 0\n",
        "        else:\n",
        "            new_image[row][col] = 255\n",
        "\n",
        "    new_image = Image.fromarray(new_image, mode='L')\n",
        "    return new_image\n",
        "\n",
        "\n",
        "def generate_noisy_data():\n",
        "    temp = 0\n",
        "    for noise in noise_list:\n",
        "        for file_name in os.listdir(f'{path}/data/'):\n",
        "            if file_name.split('.')[1] != 'bmp':\n",
        "                continue\n",
        "\n",
        "            img = Image.open(f'{path}/data/{file_name}', mode='r')\n",
        "            \n",
        "            new_image = get_noisy_image(img, noise)\n",
        "            \n",
        "            noise_p = int(noise * 100)\n",
        "            new_image.save(f'{path}/noisy_data/{str(noise_p)}_{file_name}')\n",
        "\n",
        "\n",
        "generate_data()\n",
        "generate_noisy_data()"
      ],
      "execution_count": null,
      "outputs": []
    },
    {
      "cell_type": "code",
      "metadata": {
        "id": "sWdy2NaP1VUO"
      },
      "source": [
        "# Q1.3_graded\n",
        "# Do not change the above line.\n",
        "\n",
        "class HopfieldNet:\n",
        "\n",
        "    def __init__(self, n):\n",
        "        self.n = n\n",
        "        self.weights = np.zeros((n, n))\n",
        "\n",
        "    def train(self, input):\n",
        "        \n",
        "        p = np.dot(input.T, input)\n",
        "        \n",
        "        np.fill_diagonal(p, 0)\n",
        "        \n",
        "        self.weights += p\n",
        "    \n",
        "    def restore(self, x):\n",
        "        p = np.sum(x * self.weights, axis=1)\n",
        "        return np.array(np.sign(p.T))\n",
        "\n",
        "    def update(self, input):\n",
        "        current_x = input\n",
        "        last_x = np.copy(current_x)\n",
        "        for i in range(1000):\n",
        "            current_x = self.restore(current_x)\n",
        "            if np.array_equal(current_x, last_x):\n",
        "                break\n",
        "            last_x = np.copy(current_x)\n",
        "        return current_x\n"
      ],
      "execution_count": null,
      "outputs": []
    },
    {
      "cell_type": "code",
      "metadata": {
        "colab": {
          "base_uri": "https://localhost:8080/"
        },
        "id": "aVk8jqYSRsQV",
        "outputId": "5e4fb201-d8d9-416e-8f66-fab65f5b1314"
      },
      "source": [
        "# Q1.3_graded\n",
        "# Do not change the above line.\n",
        "\n",
        "path = '/content/CI992/HW3/Q1.3'\n",
        "dim = 40\n",
        "chars = 'ABCDEFGHIJ'\n",
        "fonts = [16, 32, 64]\n",
        "noise_list = [10, 30, 60]\n",
        "\n",
        "def generate_patterns(font_size):\n",
        "\n",
        "    patterns = []\n",
        "    for file_name in os.listdir(f'{path}/data/'):\n",
        "        if file_name.split('.')[1] != 'bmp' or file_name.split('.')[0].split('_')[1] != str(font_size):\n",
        "                continue\n",
        "        \n",
        "        img = Image.open(f'{path}/data/{file_name}', mode='r')\n",
        "        img = img.resize((dim, dim))\n",
        "        img_arr = np.asarray(img, dtype=np.uint8)\n",
        "\n",
        "        pattern = np.ones(img_arr.shape)\n",
        "        pattern[img_arr <= 60] = -1\n",
        "\n",
        "        patterns.append(pattern.flatten())\n",
        "\n",
        "    return np.array(patterns)\n",
        "\n",
        "\n",
        "for f in fonts:\n",
        "    patterns = generate_patterns(f)\n",
        "    \n",
        "    hn = HopfieldNet(dim ** 2)\n",
        "    hn.train(patterns)\n",
        "    \n",
        "    for noise in noise_list:\n",
        "        for ch in chars:\n",
        "            img = Image.open(f'{path}/noisy_data/{str(noise)}_{ch}_{str(f)}.bmp', mode='r')\n",
        "            img = img.resize((dim, dim))\n",
        "            img_arr = np.asarray(img, dtype=np.uint8)\n",
        "\n",
        "            pattern = np.ones(img_arr.shape)\n",
        "            pattern[img_arr <= 60] = -1\n",
        "\n",
        "            result_pattern = hn.update(pattern.flatten())\n",
        "\n",
        "            result_arr = np.where(result_pattern >= 0, 255, 0)\n",
        "            result_arr = np.array(result_arr, dtype=np.uint8)\n",
        "\n",
        "            out = Image.fromarray(result_arr.reshape((dim, dim)), mode='L')\n",
        "            out.save(f'{path}/result/{str(noise)}_{ch}_{str(f)}.bmp')\n",
        "\n",
        "            org_img = Image.open(f'{path}/data/{ch}_{str(f)}.bmp', mode='r')\n",
        "            org_img = org_img.resize((dim, dim))\n",
        "            org_img_arr = np.asarray(org_img, dtype=np.uint8)\n",
        "\n",
        "            org_img_pattern = np.ones(org_img_arr.shape)\n",
        "            org_img_pattern[org_img_arr <= 60] = -1\n",
        "            org_img_pattern = org_img_pattern.flatten()\n",
        "\n",
        "            rate = 100 - 100 * np.sum(np.abs(result_pattern - org_img_pattern)) / (2 * dim * dim)\n",
        "            print(f'Accuracy for noise: {str(noise)}, character: {ch}, font: {str(f)} --> {str(rate)}')"
      ],
      "execution_count": null,
      "outputs": [
        {
          "output_type": "stream",
          "text": [
            "Accuracy for noise: 10, character: A, font: 16 --> 100.0\n",
            "Accuracy for noise: 10, character: B, font: 16 --> 93.8125\n",
            "Accuracy for noise: 10, character: C, font: 16 --> 82.875\n",
            "Accuracy for noise: 10, character: D, font: 16 --> 91.8125\n",
            "Accuracy for noise: 10, character: E, font: 16 --> 82.75\n",
            "Accuracy for noise: 10, character: F, font: 16 --> 75.75\n",
            "Accuracy for noise: 10, character: G, font: 16 --> 76.6875\n",
            "Accuracy for noise: 10, character: H, font: 16 --> 84.0625\n",
            "Accuracy for noise: 10, character: I, font: 16 --> 99.375\n",
            "Accuracy for noise: 10, character: J, font: 16 --> 69.75\n",
            "Accuracy for noise: 30, character: A, font: 16 --> 51.25\n",
            "Accuracy for noise: 30, character: B, font: 16 --> 93.8125\n",
            "Accuracy for noise: 30, character: C, font: 16 --> 82.875\n",
            "Accuracy for noise: 30, character: D, font: 16 --> 91.8125\n",
            "Accuracy for noise: 30, character: E, font: 16 --> 82.75\n",
            "Accuracy for noise: 30, character: F, font: 16 --> 75.75\n",
            "Accuracy for noise: 30, character: G, font: 16 --> 76.6875\n",
            "Accuracy for noise: 30, character: H, font: 16 --> 84.0625\n",
            "Accuracy for noise: 30, character: I, font: 16 --> 99.375\n",
            "Accuracy for noise: 30, character: J, font: 16 --> 68.75\n",
            "Accuracy for noise: 60, character: A, font: 16 --> 51.25\n",
            "Accuracy for noise: 60, character: B, font: 16 --> 8.9375\n",
            "Accuracy for noise: 60, character: C, font: 16 --> 17.125\n",
            "Accuracy for noise: 60, character: D, font: 16 --> 12.125\n",
            "Accuracy for noise: 60, character: E, font: 16 --> 16.0625\n",
            "Accuracy for noise: 60, character: F, font: 16 --> 28.3125\n",
            "Accuracy for noise: 60, character: G, font: 16 --> 23.3125\n",
            "Accuracy for noise: 60, character: H, font: 16 --> 15.9375\n",
            "Accuracy for noise: 60, character: I, font: 16 --> 58.4375\n",
            "Accuracy for noise: 60, character: J, font: 16 --> 30.25\n",
            "Accuracy for noise: 10, character: A, font: 32 --> 100.0\n",
            "Accuracy for noise: 10, character: B, font: 32 --> 95.0\n",
            "Accuracy for noise: 10, character: C, font: 32 --> 85.0625\n",
            "Accuracy for noise: 10, character: D, font: 32 --> 89.625\n",
            "Accuracy for noise: 10, character: E, font: 32 --> 84.875\n",
            "Accuracy for noise: 10, character: F, font: 32 --> 77.875\n",
            "Accuracy for noise: 10, character: G, font: 32 --> 85.6875\n",
            "Accuracy for noise: 10, character: H, font: 32 --> 77.1875\n",
            "Accuracy for noise: 10, character: I, font: 32 --> 98.125\n",
            "Accuracy for noise: 10, character: J, font: 32 --> 69.125\n",
            "Accuracy for noise: 30, character: A, font: 32 --> 51.3125\n",
            "Accuracy for noise: 30, character: B, font: 32 --> 95.0\n",
            "Accuracy for noise: 30, character: C, font: 32 --> 85.0625\n",
            "Accuracy for noise: 30, character: D, font: 32 --> 89.625\n",
            "Accuracy for noise: 30, character: E, font: 32 --> 84.875\n",
            "Accuracy for noise: 30, character: F, font: 32 --> 77.875\n",
            "Accuracy for noise: 30, character: G, font: 32 --> 84.8125\n",
            "Accuracy for noise: 30, character: H, font: 32 --> 77.1875\n",
            "Accuracy for noise: 30, character: I, font: 32 --> 56.3125\n",
            "Accuracy for noise: 30, character: J, font: 32 --> 69.125\n",
            "Accuracy for noise: 60, character: A, font: 32 --> 51.3125\n",
            "Accuracy for noise: 60, character: B, font: 32 --> 10.5\n",
            "Accuracy for noise: 60, character: C, font: 32 --> 14.9375\n",
            "Accuracy for noise: 60, character: D, font: 32 --> 11.25\n",
            "Accuracy for noise: 60, character: E, font: 32 --> 15.125\n",
            "Accuracy for noise: 60, character: F, font: 32 --> 25.125\n",
            "Accuracy for noise: 60, character: G, font: 32 --> 14.3125\n",
            "Accuracy for noise: 60, character: H, font: 32 --> 24.0625\n",
            "Accuracy for noise: 60, character: I, font: 32 --> 1.875\n",
            "Accuracy for noise: 60, character: J, font: 32 --> 30.875\n",
            "Accuracy for noise: 10, character: A, font: 64 --> 100.0\n",
            "Accuracy for noise: 10, character: B, font: 64 --> 95.25\n",
            "Accuracy for noise: 10, character: C, font: 64 --> 82.0625\n",
            "Accuracy for noise: 10, character: D, font: 64 --> 92.125\n",
            "Accuracy for noise: 10, character: E, font: 64 --> 88.4375\n",
            "Accuracy for noise: 10, character: F, font: 64 --> 79.5\n",
            "Accuracy for noise: 10, character: G, font: 64 --> 82.8125\n",
            "Accuracy for noise: 10, character: H, font: 64 --> 79.75\n",
            "Accuracy for noise: 10, character: I, font: 64 --> 94.75\n",
            "Accuracy for noise: 10, character: J, font: 64 --> 71.1875\n",
            "Accuracy for noise: 30, character: A, font: 64 --> 48.3125\n",
            "Accuracy for noise: 30, character: B, font: 64 --> 95.25\n",
            "Accuracy for noise: 30, character: C, font: 64 --> 82.0625\n",
            "Accuracy for noise: 30, character: D, font: 64 --> 89.0625\n",
            "Accuracy for noise: 30, character: E, font: 64 --> 88.4375\n",
            "Accuracy for noise: 30, character: F, font: 64 --> 79.5\n",
            "Accuracy for noise: 30, character: G, font: 64 --> 82.8125\n",
            "Accuracy for noise: 30, character: H, font: 64 --> 79.75\n",
            "Accuracy for noise: 30, character: I, font: 64 --> 56.4375\n",
            "Accuracy for noise: 30, character: J, font: 64 --> 71.1875\n",
            "Accuracy for noise: 60, character: A, font: 64 --> 46.625\n",
            "Accuracy for noise: 60, character: B, font: 64 --> 6.875\n",
            "Accuracy for noise: 60, character: C, font: 64 --> 17.9375\n",
            "Accuracy for noise: 60, character: D, font: 64 --> 8.125\n",
            "Accuracy for noise: 60, character: E, font: 64 --> 11.5625\n",
            "Accuracy for noise: 60, character: F, font: 64 --> 24.9375\n",
            "Accuracy for noise: 60, character: G, font: 64 --> 17.1875\n",
            "Accuracy for noise: 60, character: H, font: 64 --> 22.375\n",
            "Accuracy for noise: 60, character: I, font: 64 --> 52.0625\n",
            "Accuracy for noise: 60, character: J, font: 64 --> 29.0625\n"
          ],
          "name": "stdout"
        }
      ]
    },
    {
      "cell_type": "markdown",
      "metadata": {
        "id": "iRqYhKw1rgUp"
      },
      "source": [
        "# <font color='red'>Submission</font>\n",
        "\n",
        "1. Sign up in [Gradescope](https://www.gradescope.com) with proper name and student ID and use the following code to join the class: <font color='green'>**D5372R**</font>\n",
        "2. Fill in your full name (seperated by single spaces) and student ID in the beginning of this notebook.\n",
        "3. After you're done with this notebook, you should do the following:\n",
        "  - Clear all outputs of the notebook.\n",
        "  ![clear all outputs](https://i.ibb.co/y6FrttB/Screen-Shot-2021-03-21-at-01-51-42.png)\n",
        "  - Run all of the cells (if you skipped a question just leave the cell unchanged), and make sure all of your outputs are correct.\n",
        "  ![run all](https://i.ibb.co/cgRcBZ0/Screen-Shot-2021-03-21-at-01-54-58.png)\n",
        "  - Save your notebook.\n",
        "  - If you're using Colab, download your notebook.\n",
        "  ![download ipynb](https://i.ibb.co/2KxYM6K/Screen-Shot-2021-03-21-at-02-03-50.png)\n",
        "  - Put the notebook file you just downloaded and `convert.py` in the same folder run the following command:\n",
        "  ```bash\n",
        "  python convert.py\n",
        "  ```\n",
        "  This will export your code for each question into a `.py` file.\n",
        "    - **Note**: if you want to add more cells, add this to the **first** line of the cell:\n",
        "  ```python\n",
        "  # Q5_graded\n",
        "  ```\n",
        "  according to the question number.\n",
        "  - There are 2 assignments in Gradescope:\n",
        "\n",
        "    ![assignments](https://i.ibb.co/10GMhGM/Screen-Shot-2021-03-21-at-02-16-25.png)\n",
        "  \n",
        "    You should upload your **codes** and your **notebook** in `HW3` section and your final report for all of the questions as a **single pdf** file in `HW3 - Report`. Autograder will automatically check for:\n",
        "    - `CI992_HW3.ipynb`\n",
        "    - `Q1.2.py`\n",
        "    - `Q1.3.py`\n",
        "    - `inverted_pendulum.fcl`\n",
        "    - Your name and ID in the beginning of `.ipynb` file.\n",
        "\n",
        "    It is important that you <font color='red'>**don't**</font> change the names of these files before submission.\n",
        "\n",
        "4. If you pass the autograder, you're good to go."
      ]
    },
    {
      "cell_type": "code",
      "metadata": {
        "id": "8ncvGuBu6f2e"
      },
      "source": [
        ""
      ],
      "execution_count": null,
      "outputs": []
    }
  ]
}