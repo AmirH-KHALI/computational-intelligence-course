{
  "nbformat": 4,
  "nbformat_minor": 0,
  "metadata": {
    "colab": {
      "name": "CI992_HW2.ipynb",
      "provenance": [],
      "collapsed_sections": []
    },
    "kernelspec": {
      "display_name": "Python 3",
      "language": "python",
      "name": "python3"
    },
    "language_info": {
      "codemirror_mode": {
        "name": "ipython",
        "version": 3
      },
      "file_extension": ".py",
      "mimetype": "text/x-python",
      "name": "python",
      "nbconvert_exporter": "python",
      "pygments_lexer": "ipython3",
      "version": "3.8.7"
    }
  },
  "cells": [
    {
      "cell_type": "markdown",
      "metadata": {
        "id": "heBxPYfc0U22"
      },
      "source": [
        "# Your info\n",
        "\n",
        "Full name: AmirHossein Ahmadi\n",
        "\n",
        "Student ID: 97522292"
      ]
    },
    {
      "cell_type": "markdown",
      "metadata": {
        "id": "AJU-9zasc1D6"
      },
      "source": [
        "Notice: **You can add new cells for each part.**"
      ]
    },
    {
      "cell_type": "markdown",
      "metadata": {
        "id": "UBD007b3-ntJ"
      },
      "source": [
        "# Q1.A. Kohonen"
      ]
    },
    {
      "cell_type": "code",
      "metadata": {
        "id": "tINKwo7sihwe"
      },
      "source": [
        "import numpy as np\n",
        "import matplotlib.pyplot as plt\n",
        "\n",
        "class Q1_A_Kohonen:\n",
        "    \n",
        "    def __init__(self, n, learning_rate=0.1, epochs=100, sigma=4):\n",
        "        self.learning_rate = learning_rate\n",
        "        self.epochs = epochs\n",
        "        self.weights = np.random.rand(n**2, 3)\n",
        "        self.n = n\n",
        "        self.sigma = sigma\n",
        "\n",
        "    def get_dists_2(self, x, y):\n",
        "        i, j = np.indices((self.n, self.n))\n",
        "        return (i - x) ** 2 + (j - y) ** 2\n",
        "\n",
        "    def train(self, training_inputs):\n",
        "        for _ in range(self.epochs):\n",
        "            for training_input in training_inputs:\n",
        "                winner_w = np.argmin(np.sum(np.square(np.subtract(self.weights, training_input)), axis=1))\n",
        "                \n",
        "                ww_x = winner_w // self.n\n",
        "                ww_y = winner_w %  self.n\n",
        "\n",
        "                dist_2 = self.get_dists_2(ww_x, ww_y).reshape(-1,1)\n",
        "\n",
        "                self.weights += np.multiply(training_input - self.weights, np.exp((-dist_2) / (2 * (self.sigma ** 2)))) * self.learning_rate\n",
        "            "
      ],
      "execution_count": 170,
      "outputs": []
    },
    {
      "cell_type": "code",
      "metadata": {
        "colab": {
          "base_uri": "https://localhost:8080/",
          "height": 267
        },
        "id": "L-vDEoa8G6b_",
        "outputId": "2850a95a-227a-4945-9839-be809329bbd7"
      },
      "source": [
        "kohonen = Q1_A_Kohonen(40)\n",
        "training_inputs = np.random.rand(1600, 3)\n",
        "\n",
        "kohonen.train(training_inputs)\n",
        "\n",
        "plt.imshow(kohonen.weights.reshape(40, 40, 3))\n",
        "plt.show()\n",
        "    \n"
      ],
      "execution_count": 171,
      "outputs": [
        {
          "output_type": "display_data",
          "data": {
            "image/png": "[encoded data removed]",
            "text/plain": [
              "<Figure size 432x288 with 1 Axes>"
            ]
          },
          "metadata": {
            "tags": [],
            "needs_background": "light"
          }
        }
      ]
    },
    {
      "cell_type": "markdown",
      "metadata": {
        "id": "k3wNHj5KB8Zc"
      },
      "source": [
        "# Q1.B. Kohonen"
      ]
    },
    {
      "cell_type": "code",
      "metadata": {
        "id": "NXSGtRRmcEwK"
      },
      "source": [
        "import numpy as np\n",
        "import matplotlib.pyplot as plt\n",
        "\n",
        "class Q1_B_C_Kohonen:\n",
        "    \n",
        "    def __init__(self, n, learning_rate=0.1, epochs=100, sigma=4, d_sigma=1, d_learning_rate=1):\n",
        "        self.learning_rate = learning_rate\n",
        "        self.epochs = epochs\n",
        "        self.weights = np.random.rand(n**2, 3)\n",
        "        self.n = n\n",
        "        self.sigma = sigma\n",
        "        self.d_sigma = d_sigma\n",
        "        self.d_learning_rate = d_learning_rate\n",
        "\n",
        "    def get_dists_2(self, x, y):\n",
        "        i, j = np.indices((self.n, self.n))\n",
        "        return (i - x) ** 2 + (j - y) ** 2\n",
        "\n",
        "    def train(self, training_inputs):\n",
        "        for _ in range(self.epochs):\n",
        "            for training_input in training_inputs:\n",
        "                winner_w = np.argmin(np.sum(np.square(np.subtract(self.weights, training_input)), axis=1))\n",
        "                \n",
        "                ww_x = winner_w // self.n\n",
        "                ww_y = winner_w %  self.n\n",
        "\n",
        "                dist_2 = self.get_dists_2(ww_x, ww_y).reshape(-1,1)\n",
        "\n",
        "                self.weights += np.multiply(training_input - self.weights, np.exp((-dist_2) / (2 * (self.sigma ** 2)))) * self.learning_rate\n",
        "            self.learning_rate *= self.d_learning_rate\n",
        "            self.sigma *= self.d_sigma"
      ],
      "execution_count": 172,
      "outputs": []
    },
    {
      "cell_type": "code",
      "metadata": {
        "colab": {
          "base_uri": "https://localhost:8080/",
          "height": 267
        },
        "id": "0b3pGSOMlx2O",
        "outputId": "9059c942-c0a1-431f-b3bf-320a49c51a56"
      },
      "source": [
        "# 1_B\n",
        "kohonen = Q1_B_C_Kohonen(40, learning_rate=1, sigma=6, d_learning_rate=.9)\n",
        "training_inputs = np.random.rand(1600, 3)\n",
        "\n",
        "kohonen.train(training_inputs)\n",
        "\n",
        "plt.imshow(kohonen.weights.reshape(40, 40, 3))\n",
        "plt.show()\n",
        "    "
      ],
      "execution_count": 173,
      "outputs": [
        {
          "output_type": "display_data",
          "data": {
            "image/png": "[encoded data removed]",
            "text/plain": [
              "<Figure size 432x288 with 1 Axes>"
            ]
          },
          "metadata": {
            "tags": [],
            "needs_background": "light"
          }
        }
      ]
    },
    {
      "cell_type": "code",
      "metadata": {
        "colab": {
          "base_uri": "https://localhost:8080/",
          "height": 267
        },
        "id": "nmYj7iYuvKO6",
        "outputId": "da655486-9090-4afa-c35d-4cf692e29b84"
      },
      "source": [
        "# 1_C\n",
        "kohonen = Q1_B_C_Kohonen(40, learning_rate=1, sigma=10, d_learning_rate=.9, d_sigma=.99)\n",
        "training_inputs = np.random.rand(1600, 3)\n",
        "\n",
        "kohonen.train(training_inputs)\n",
        "\n",
        "plt.imshow(kohonen.weights.reshape(40,40,3))\n",
        "plt.show()\n"
      ],
      "execution_count": 175,
      "outputs": [
        {
          "output_type": "display_data",
          "data": {
            "image/png": "[encoded data removed]",
            "text/plain": [
              "<Figure size 432x288 with 1 Axes>"
            ]
          },
          "metadata": {
            "tags": [],
            "needs_background": "light"
          }
        }
      ]
    },
    {
      "cell_type": "markdown",
      "metadata": {
        "id": "VAAR47H8-5ML"
      },
      "source": [
        "# Q2.A. MLP"
      ]
    },
    {
      "cell_type": "code",
      "metadata": {
        "colab": {
          "base_uri": "https://localhost:8080/",
          "height": 1000
        },
        "id": "1-H8dvvxMO3B",
        "outputId": "87e8d416-f4b0-4570-f245-25435d20d5a2"
      },
      "source": [
        "#write your code here\n",
        "\n",
        "import keras\n",
        "from keras.layers import *\n",
        "from keras.optimizers import *\n",
        "from keras.models import Sequential\n",
        "\n",
        "import numpy as np\n",
        "import matplotlib.pyplot as plt\n",
        "\n",
        "# Generate training data\n",
        "num_samples = 300\n",
        "x_train = (np.random.rand(num_samples) * 6) - 3\n",
        "x_train.reshape(num_samples, 1)\n",
        "y_train = np.sin(x_train)\n",
        "\n",
        "# Create the model\n",
        "model = Sequential()\n",
        "model.add(Dense(350, input_shape=(1,)))\n",
        "model.add(Activation('sigmoid'))\n",
        "model.add(Dense(50))\n",
        "model.add(Activation('sigmoid'))\n",
        "model.add(Dense(1))\n",
        "\n",
        "# Train\n",
        "model.compile(loss='mean_squared_error', optimizer='adam')\n",
        "train_history = model.fit(x_train, y_train, epochs=100, batch_size=4)\n",
        "\n",
        "# Generate test data\n",
        "num_tests = 200\n",
        "x_test = (np.random.rand(num_tests) * 6) - 3\n",
        "x_test.reshape(num_tests, 1)\n",
        "y_test = np.sin(x_test)\n",
        "\n",
        "# Predict\n",
        "predicted_y = model.predict(x_test)\n",
        "\n",
        "# Sort based on x\n",
        "idx = np.argsort(x_test)\n",
        "x_test = np.array(x_test)[idx]\n",
        "y_test = np.array(y_test)[idx]\n",
        "predicted_y = np.array(predicted_y)[idx]\n",
        "\n",
        "# Plot \n",
        "plt.plot(x_test, predicted_y, label='Predicted')\n",
        "plt.plot(x_test, y_test, label='sin(x)')\n",
        "plt.legend()\n",
        "plt.show()"
      ],
      "execution_count": 176,
      "outputs": [
        {
          "output_type": "stream",
          "text": [
            "Epoch 1/100\n",
            "75/75 [==============================] - 0s 1ms/step - loss: 0.4668\n",
            "Epoch 2/100\n",
            "75/75 [==============================] - 0s 1ms/step - loss: 0.2003\n",
            "Epoch 3/100\n",
            "75/75 [==============================] - 0s 1ms/step - loss: 0.1820\n",
            "Epoch 4/100\n",
            "75/75 [==============================] - 0s 1ms/step - loss: 0.1729\n",
            "Epoch 5/100\n",
            "75/75 [==============================] - 0s 1ms/step - loss: 0.1946\n",
            "Epoch 6/100\n",
            "75/75 [==============================] - 0s 1ms/step - loss: 0.1727\n",
            "Epoch 7/100\n",
            "75/75 [==============================] - 0s 1ms/step - loss: 0.1783\n",
            "Epoch 8/100\n",
            "75/75 [==============================] - 0s 1ms/step - loss: 0.1672\n",
            "Epoch 9/100\n",
            "75/75 [==============================] - 0s 1ms/step - loss: 0.1469\n",
            "Epoch 10/100\n",
            "75/75 [==============================] - 0s 1ms/step - loss: 0.1566\n",
            "Epoch 11/100\n",
            "75/75 [==============================] - 0s 1ms/step - loss: 0.1687\n",
            "Epoch 12/100\n",
            "75/75 [==============================] - 0s 1ms/step - loss: 0.1590\n",
            "Epoch 13/100\n",
            "75/75 [==============================] - 0s 1ms/step - loss: 0.1339\n",
            "Epoch 14/100\n",
            "75/75 [==============================] - 0s 1ms/step - loss: 0.1469\n",
            "Epoch 15/100\n",
            "75/75 [==============================] - 0s 1ms/step - loss: 0.1371\n",
            "Epoch 16/100\n",
            "75/75 [==============================] - 0s 1ms/step - loss: 0.1202\n",
            "Epoch 17/100\n",
            "75/75 [==============================] - 0s 1ms/step - loss: 0.1205\n",
            "Epoch 18/100\n",
            "75/75 [==============================] - 0s 1ms/step - loss: 0.1120\n",
            "Epoch 19/100\n",
            "75/75 [==============================] - 0s 1ms/step - loss: 0.0964\n",
            "Epoch 20/100\n",
            "75/75 [==============================] - 0s 1ms/step - loss: 0.0953\n",
            "Epoch 21/100\n",
            "75/75 [==============================] - 0s 1ms/step - loss: 0.0769\n",
            "Epoch 22/100\n",
            "75/75 [==============================] - 0s 1ms/step - loss: 0.0714\n",
            "Epoch 23/100\n",
            "75/75 [==============================] - 0s 1ms/step - loss: 0.0689\n",
            "Epoch 24/100\n",
            "75/75 [==============================] - 0s 1ms/step - loss: 0.0578\n",
            "Epoch 25/100\n",
            "75/75 [==============================] - 0s 1ms/step - loss: 0.0554\n",
            "Epoch 26/100\n",
            "75/75 [==============================] - 0s 1ms/step - loss: 0.0437\n",
            "Epoch 27/100\n",
            "75/75 [==============================] - 0s 1ms/step - loss: 0.0340\n",
            "Epoch 28/100\n",
            "75/75 [==============================] - 0s 2ms/step - loss: 0.0359\n",
            "Epoch 29/100\n",
            "75/75 [==============================] - 0s 1ms/step - loss: 0.0359\n",
            "Epoch 30/100\n",
            "75/75 [==============================] - 0s 1ms/step - loss: 0.0305\n",
            "Epoch 31/100\n",
            "75/75 [==============================] - 0s 1ms/step - loss: 0.0290\n",
            "Epoch 32/100\n",
            "75/75 [==============================] - 0s 1ms/step - loss: 0.0254\n",
            "Epoch 33/100\n",
            "75/75 [==============================] - 0s 1ms/step - loss: 0.0273\n",
            "Epoch 34/100\n",
            "75/75 [==============================] - 0s 1ms/step - loss: 0.0215\n",
            "Epoch 35/100\n",
            "75/75 [==============================] - 0s 1ms/step - loss: 0.0192\n",
            "Epoch 36/100\n",
            "75/75 [==============================] - 0s 1ms/step - loss: 0.0190\n",
            "Epoch 37/100\n",
            "75/75 [==============================] - 0s 1ms/step - loss: 0.0156\n",
            "Epoch 38/100\n",
            "75/75 [==============================] - 0s 1ms/step - loss: 0.0150\n",
            "Epoch 39/100\n",
            "75/75 [==============================] - 0s 1ms/step - loss: 0.0121\n",
            "Epoch 40/100\n",
            "75/75 [==============================] - 0s 1ms/step - loss: 0.0108\n",
            "Epoch 41/100\n",
            "75/75 [==============================] - 0s 1ms/step - loss: 0.0100\n",
            "Epoch 42/100\n",
            "75/75 [==============================] - 0s 1ms/step - loss: 0.0075\n",
            "Epoch 43/100\n",
            "75/75 [==============================] - 0s 1ms/step - loss: 0.0068\n",
            "Epoch 44/100\n",
            "75/75 [==============================] - 0s 1ms/step - loss: 0.0053\n",
            "Epoch 45/100\n",
            "75/75 [==============================] - 0s 1ms/step - loss: 0.0077\n",
            "Epoch 46/100\n",
            "75/75 [==============================] - 0s 1ms/step - loss: 0.0039\n",
            "Epoch 47/100\n",
            "75/75 [==============================] - 0s 1ms/step - loss: 0.0040\n",
            "Epoch 48/100\n",
            "75/75 [==============================] - 0s 1ms/step - loss: 0.0027\n",
            "Epoch 49/100\n",
            "75/75 [==============================] - 0s 2ms/step - loss: 0.0019\n",
            "Epoch 50/100\n",
            "75/75 [==============================] - 0s 1ms/step - loss: 0.0025\n",
            "Epoch 51/100\n",
            "75/75 [==============================] - 0s 1ms/step - loss: 0.0028\n",
            "Epoch 52/100\n",
            "75/75 [==============================] - 0s 1ms/step - loss: 0.0019\n",
            "Epoch 53/100\n",
            "75/75 [==============================] - 0s 1ms/step - loss: 0.0017\n",
            "Epoch 54/100\n",
            "75/75 [==============================] - 0s 1ms/step - loss: 9.7120e-04\n",
            "Epoch 55/100\n",
            "75/75 [==============================] - 0s 1ms/step - loss: 0.0011\n",
            "Epoch 56/100\n",
            "75/75 [==============================] - 0s 1ms/step - loss: 0.0010\n",
            "Epoch 57/100\n",
            "75/75 [==============================] - 0s 1ms/step - loss: 9.1792e-04\n",
            "Epoch 58/100\n",
            "75/75 [==============================] - 0s 2ms/step - loss: 0.0010\n",
            "Epoch 59/100\n",
            "75/75 [==============================] - 0s 1ms/step - loss: 5.2638e-04\n",
            "Epoch 60/100\n",
            "75/75 [==============================] - 0s 1ms/step - loss: 8.1473e-04\n",
            "Epoch 61/100\n",
            "75/75 [==============================] - 0s 1ms/step - loss: 6.8025e-04\n",
            "Epoch 62/100\n",
            "75/75 [==============================] - 0s 2ms/step - loss: 4.0403e-04\n",
            "Epoch 63/100\n",
            "75/75 [==============================] - 0s 1ms/step - loss: 6.2007e-04\n",
            "Epoch 64/100\n",
            "75/75 [==============================] - 0s 1ms/step - loss: 3.6455e-04\n",
            "Epoch 65/100\n",
            "75/75 [==============================] - 0s 1ms/step - loss: 3.8498e-04\n",
            "Epoch 66/100\n",
            "75/75 [==============================] - 0s 1ms/step - loss: 2.3563e-04\n",
            "Epoch 67/100\n",
            "75/75 [==============================] - 0s 1ms/step - loss: 2.5037e-04\n",
            "Epoch 68/100\n",
            "75/75 [==============================] - 0s 1ms/step - loss: 3.2387e-04\n",
            "Epoch 69/100\n",
            "75/75 [==============================] - 0s 1ms/step - loss: 2.9764e-04\n",
            "Epoch 70/100\n",
            "75/75 [==============================] - 0s 1ms/step - loss: 1.6739e-04\n",
            "Epoch 71/100\n",
            "75/75 [==============================] - 0s 1ms/step - loss: 2.6602e-04\n",
            "Epoch 72/100\n",
            "75/75 [==============================] - 0s 1ms/step - loss: 5.4442e-04\n",
            "Epoch 73/100\n",
            "75/75 [==============================] - 0s 1ms/step - loss: 5.4909e-04\n",
            "Epoch 74/100\n",
            "75/75 [==============================] - 0s 1ms/step - loss: 1.7850e-04\n",
            "Epoch 75/100\n",
            "75/75 [==============================] - 0s 1ms/step - loss: 2.1544e-04\n",
            "Epoch 76/100\n",
            "75/75 [==============================] - 0s 1ms/step - loss: 1.2691e-04\n",
            "Epoch 77/100\n",
            "75/75 [==============================] - 0s 1ms/step - loss: 2.1761e-04\n",
            "Epoch 78/100\n",
            "75/75 [==============================] - 0s 1ms/step - loss: 2.4742e-04\n",
            "Epoch 79/100\n",
            "75/75 [==============================] - 0s 1ms/step - loss: 1.4097e-04\n",
            "Epoch 80/100\n",
            "75/75 [==============================] - 0s 1ms/step - loss: 1.0053e-04\n",
            "Epoch 81/100\n",
            "75/75 [==============================] - 0s 1ms/step - loss: 1.4993e-04\n",
            "Epoch 82/100\n",
            "75/75 [==============================] - 0s 1ms/step - loss: 1.4944e-04\n",
            "Epoch 83/100\n",
            "75/75 [==============================] - 0s 1ms/step - loss: 1.4196e-04\n",
            "Epoch 84/100\n",
            "75/75 [==============================] - 0s 1ms/step - loss: 1.2303e-04\n",
            "Epoch 85/100\n",
            "75/75 [==============================] - 0s 1ms/step - loss: 1.9480e-04\n",
            "Epoch 86/100\n",
            "75/75 [==============================] - 0s 2ms/step - loss: 2.3528e-04\n",
            "Epoch 87/100\n",
            "75/75 [==============================] - 0s 2ms/step - loss: 1.2359e-04\n",
            "Epoch 88/100\n",
            "75/75 [==============================] - 0s 1ms/step - loss: 4.6824e-04\n",
            "Epoch 89/100\n",
            "75/75 [==============================] - 0s 1ms/step - loss: 3.3824e-04\n",
            "Epoch 90/100\n",
            "75/75 [==============================] - 0s 1ms/step - loss: 6.0835e-04\n",
            "Epoch 91/100\n",
            "75/75 [==============================] - 0s 1ms/step - loss: 5.6234e-04\n",
            "Epoch 92/100\n",
            "75/75 [==============================] - 0s 1ms/step - loss: 2.2892e-04\n",
            "Epoch 93/100\n",
            "75/75 [==============================] - 0s 1ms/step - loss: 2.5615e-04\n",
            "Epoch 94/100\n",
            "75/75 [==============================] - 0s 1ms/step - loss: 6.0272e-04\n",
            "Epoch 95/100\n",
            "75/75 [==============================] - 0s 1ms/step - loss: 3.7390e-04\n",
            "Epoch 96/100\n",
            "75/75 [==============================] - 0s 1ms/step - loss: 1.9217e-04\n",
            "Epoch 97/100\n",
            "75/75 [==============================] - 0s 2ms/step - loss: 2.4173e-04\n",
            "Epoch 98/100\n",
            "75/75 [==============================] - 0s 2ms/step - loss: 3.7464e-04\n",
            "Epoch 99/100\n",
            "75/75 [==============================] - 0s 2ms/step - loss: 5.6991e-04\n",
            "Epoch 100/100\n",
            "75/75 [==============================] - 0s 1ms/step - loss: 0.0011\n"
          ],
          "name": "stdout"
        },
        {
          "output_type": "display_data",
          "data": {
            "image/png": "[encoded data removed]",
            "text/plain": [
              "<Figure size 432x288 with 1 Axes>"
            ]
          },
          "metadata": {
            "tags": [],
            "needs_background": "light"
          }
        }
      ]
    },
    {
      "cell_type": "markdown",
      "metadata": {
        "id": "IZSH8riLCDQi"
      },
      "source": [
        "# Q2.B. RBF"
      ]
    },
    {
      "cell_type": "code",
      "metadata": {
        "colab": {
          "base_uri": "https://localhost:8080/",
          "height": 265
        },
        "id": "71f7Lz9ktMZg",
        "outputId": "ce88e37a-f5c2-4c92-ea12-f67c8ed8f004"
      },
      "source": [
        "import numpy as np\n",
        "import matplotlib.pyplot as plt\n",
        "\n",
        "class RBF:\n",
        "    def __init__(self):\n",
        "        self.hidden_shape = 8\n",
        "        self.centers = None\n",
        "        self.weights = None\n",
        "\n",
        "    def calculate_interpolation_matrix(self, x):\n",
        "        i, j = np.indices((len(x), self.hidden_shape))\n",
        "        return np.exp(-(self.centers[j] - x[i])**2)\n",
        "\n",
        "    def fit(self, x, y):\n",
        "        random_args = np.random.choice(len(x), self.hidden_shape)\n",
        "        self.centers = x[random_args]\n",
        "        matrix = self.calculate_interpolation_matrix(x)\n",
        "        self.weights = np.dot(np.linalg.pinv(matrix), y)\n",
        "\n",
        "    def predict(self, x):\n",
        "        matrix = self.calculate_interpolation_matrix(x)\n",
        "        predictions = np.dot(matrix, self.weights)\n",
        "        return predictions\n",
        "\n",
        "# Generate training data\n",
        "num_samples = 200\n",
        "x_train = (np.random.rand(num_samples) * 6) - 3\n",
        "x_train.reshape(num_samples, 1)\n",
        "y_train = np.sin(x_train)\n",
        "\n",
        "# Train\n",
        "rbf_model = RBF()\n",
        "rbf_model.fit(x_train, y_train)\n",
        "\n",
        "# Generate test data\n",
        "num_tests = 200\n",
        "x_test = (np.random.rand(num_tests) * 6) - 3\n",
        "x_test.reshape(num_tests, 1)\n",
        "y_test = np.sin(x_test)\n",
        "\n",
        "# Predict\n",
        "predicted_y = rbf_model.predict(x_test)\n",
        "\n",
        "# Sort based on x\n",
        "idx = np.argsort(x_test)\n",
        "x_test = np.array(x_test)[idx]\n",
        "y_test = np.array(y_test)[idx]\n",
        "predicted_y = np.array(predicted_y)[idx]\n",
        "\n",
        "# Plot \n",
        "plt.plot(x_test, predicted_y, label='rbf')\n",
        "plt.plot(x_test, y_test, label='sin(x)')\n",
        "plt.legend()\n",
        "plt.show()"
      ],
      "execution_count": 177,
      "outputs": [
        {
          "output_type": "display_data",
          "data": {
            "image/png": "[encoded data removed]",
            "text/plain": [
              "<Figure size 432x288 with 1 Axes>"
            ]
          },
          "metadata": {
            "tags": [],
            "needs_background": "light"
          }
        }
      ]
    },
    {
      "cell_type": "markdown",
      "metadata": {
        "id": "blcE1yPkeb5u"
      },
      "source": [
        "# Q2.C. Compare"
      ]
    },
    {
      "cell_type": "code",
      "metadata": {
        "id": "hWDE-iamebf8",
        "colab": {
          "base_uri": "https://localhost:8080/",
          "height": 265
        },
        "outputId": "f8cbf2f6-c7c3-475c-f2b6-9c50d2eab0e5"
      },
      "source": [
        "#write your code here\n",
        "\n",
        "# Generate test data\n",
        "num_tests = 200\n",
        "x_test = (np.random.rand(num_tests) * 8) - 4\n",
        "x_test.reshape(num_tests, 1)\n",
        "y_test = np.sin(x_test)\n",
        "\n",
        "# Predict\n",
        "predicted_y_rbf = rbf_model.predict(x_test)\n",
        "predicted_y_mlp = model.predict(x_test)\n",
        "\n",
        "# Sort based on x\n",
        "idx = np.argsort(x_test)\n",
        "x_test = np.array(x_test)[idx]\n",
        "y_test = np.array(y_test)[idx]\n",
        "predicted_y_rbf = np.array(predicted_y_rbf)[idx]\n",
        "predicted_y_mlp = np.array(predicted_y_mlp)[idx]\n",
        "\n",
        "# Plot \n",
        "plt.plot(x_test, predicted_y_rbf, label='rbf')\n",
        "plt.plot(x_test, predicted_y_mlp, label='mlp')\n",
        "plt.plot(x_test, y_test, label='sin(x)')\n",
        "plt.legend()\n",
        "plt.show()"
      ],
      "execution_count": 178,
      "outputs": [
        {
          "output_type": "display_data",
          "data": {
            "image/png": "[encoded data removed]",
            "text/plain": [
              "<Figure size 432x288 with 1 Axes>"
            ]
          },
          "metadata": {
            "tags": [],
            "needs_background": "light"
          }
        }
      ]
    },
    {
      "cell_type": "markdown",
      "metadata": {
        "id": "iRqYhKw1rgUp"
      },
      "source": [
        "# <font color='red'>Submission</font>\n",
        "\n",
        "1. Sign up in [Gradescope](https://www.gradescope.com) with proper name and student ID and use the following code to join the class: <font color='red'>**D5372R**</font>\n",
        "2. Fill in your full name (seperated by single spaces) and student ID in the beginning of this notebook.\n",
        "3. After you're done with this notebook, you should do the following:\n",
        "  - Clear all outputs of the notebook.\n",
        "  ![clear all outputs](https://i.ibb.co/y6FrttB/Screen-Shot-2021-03-21-at-01-51-42.png)\n",
        "  - Run all of the cells (if you skipped a question just leave the cell unchanged), and make sure all of your outputs are correct.\n",
        "  ![run all](https://i.ibb.co/cgRcBZ0/Screen-Shot-2021-03-21-at-01-54-58.png)\n",
        "  - Save your notebook.\n",
        "  \n",
        "  - If you're using Colab, download your notebook.\n",
        "  ![download ipynb](https://i.ibb.co/2KxYM6K/Screen-Shot-2021-03-21-at-02-03-50.png)\n",
        "  \n",
        "  - Put the notebook file you just downloaded and `convert.py` in the same folder run the following command:\n",
        "  ```bash\n",
        "  python convert.py\n",
        "  ```\n",
        "  This will export your code for each question into a `.py` file.\n",
        "   \n",
        "\n",
        "  according to the question number.\n",
        "  - There are 2 assignments in Gradescope: \n",
        "\n",
        "    You should upload your **codes** and your **notebook** in `HW2` section and your final report for all of the questions as a **single pdf** file in `HW2 - Report`. Autograder will automatically check for:\n",
        "    - `CI992_HW2.ipynb`\n",
        "    - `Q1.A. Kohonen.py`\n",
        "    - `Q1.B. Koohonen.py`\n",
        "    - `Q2.A. MLP.py`\n",
        "    - `Q2.B. RBF.py`\n",
        "    - `Q2.C. Compare.py`\n",
        "    - Your name and ID in the beginning of `.ipynb` file.\n",
        "\n",
        "    It is important that you <font color='red'>**don't**</font> change the names of these files before submission.\n",
        "\n",
        "4. If you pass the autograder, you're good to go."
      ]
    },
    {
      "cell_type": "code",
      "metadata": {
        "id": "FnTVIJyyA8nJ"
      },
      "source": [
        ""
      ],
      "execution_count": null,
      "outputs": []
    }
  ]
}