{
  "nbformat": 4,
  "nbformat_minor": 0,
  "metadata": {
    "colab": {
      "name": "CI992_HW4.ipynb",
      "provenance": [],
      "collapsed_sections": [],
      "toc_visible": true
    },
    "kernelspec": {
      "display_name": "Python 3",
      "language": "python",
      "name": "python3"
    },
    "language_info": {
      "codemirror_mode": {
        "name": "ipython",
        "version": 3
      },
      "file_extension": ".py",
      "mimetype": "text/x-python",
      "name": "python",
      "nbconvert_exporter": "python",
      "pygments_lexer": "ipython3",
      "version": "3.8.7"
    }
  },
  "cells": [
    {
      "cell_type": "markdown",
      "metadata": {
        "id": "heBxPYfc0U22"
      },
      "source": [
        "# Your info\n",
        "\n",
        "Full name: AmirHossein Ahmadi\n",
        "\n",
        "Student ID: 97522292"
      ]
    },
    {
      "cell_type": "markdown",
      "metadata": {
        "id": "AJU-9zasc1D6"
      },
      "source": [
        "Notice: **You can add new cells for each part.**"
      ]
    },
    {
      "cell_type": "markdown",
      "metadata": {
        "id": "UBD007b3-ntJ"
      },
      "source": [
        "# Q1"
      ]
    },
    {
      "cell_type": "code",
      "metadata": {
        "id": "m7mFQo0Ppf0e"
      },
      "source": [
        "import random \n",
        "\n",
        "def percentage(percent, whole):\n",
        "  return (percent * whole) / 100.0\n",
        "\n",
        "POPULATION_SIZE = 20\n",
        "GENERATION_SIZE = 50\n",
        "OO = 99999999999\n",
        "\n",
        "city_count = 7\n",
        "edges = [\n",
        "         [ OO, 12, 10, OO, OO, OO, 12 ],\n",
        "         [ 12, OO,  8, 12, OO, OO, OO ], \n",
        "         [ 10,  8, OO, 11,  3, OO,  9 ],\n",
        "         [ OO, 12, 11, OO, 11, 10, OO ],\n",
        "         [ OO, OO,  3, 11, OO,  6,  7 ],\n",
        "         [ OO, OO, OO, 10,  7, OO,  9 ],\n",
        "         [ 12, OO,  9, OO,  7,  9, OO ]\n",
        "         ]"
      ],
      "execution_count": 209,
      "outputs": []
    },
    {
      "cell_type": "code",
      "metadata": {
        "id": "yssTbCxIpV-M"
      },
      "source": [
        "class GA: \n",
        "    \n",
        "    def __init__(self, chromosome):\n",
        "        self.chromosome = chromosome\n",
        "        self.fitness = self.calculate_sum()\n",
        "\n",
        "    def calculate_sum(self): \n",
        "        sum = 0\n",
        "        for i in range(len(self.chromosome) - 1):\n",
        "            sum += edges[self.chromosome[i]][self.chromosome[i + 1]]\n",
        "        return sum\n",
        "\n",
        "    def mutated_genes(self,child): \n",
        "        geneT1 = random.randint(1, len(self.chromosome) - 2)\n",
        "        geneT2 = random.randint(1, len(self.chromosome) - 2)\n",
        "\n",
        "        child[geneT1], child[geneT2] = child[geneT2], child[geneT1]\n",
        "        \n",
        "        return child\n",
        "  \n",
        "    def mate(self, other):\n",
        "        childP1 = []\n",
        "        childP2 = []\n",
        "\n",
        "        startGene = random.randint(0, len(self.chromosome) - 2)\n",
        "        endGene = random.randint(startGene + 1, len(self.chromosome) - 1)\n",
        "\n",
        "        childP1 = self.chromosome[startGene:endGene]\n",
        "\n",
        "        for c in other.chromosome:\n",
        "            if c not in childP1 and c not in childP2:\n",
        "                if len(childP2) < startGene:\n",
        "                    childP2.append(c)\n",
        "                else:\n",
        "                    childP1.append(c)\n",
        "\n",
        "        child = childP2 + childP1\n",
        "        child.append(0)\n",
        "\n",
        "        if random.random() < 0.01:\n",
        "            child = self.mutated_genes(child)\n",
        "\n",
        "        return GA(child)"
      ],
      "execution_count": 210,
      "outputs": []
    },
    {
      "cell_type": "code",
      "metadata": {
        "id": "rld-5wsb1gZS",
        "colab": {
          "base_uri": "https://localhost:8080/"
        },
        "outputId": "bd0af5c5-958f-4224-9ad3-353d65a5aef1"
      },
      "source": [
        "population = []\n",
        "for _ in range(POPULATION_SIZE):\n",
        "    random_gnome = [0]\n",
        "    for _ in range(city_count - 1):\n",
        "        while (True):\n",
        "            r = random.randint(1, city_count - 1)\n",
        "            if r not in random_gnome:\n",
        "                random_gnome.append(r)\n",
        "                break;\n",
        "\n",
        "    random_gnome.append(0)\n",
        "    population.append(GA(random_gnome)) \n",
        "\n",
        "ans = None\n",
        "for _ in range(GENERATION_SIZE):\n",
        "    population = sorted(population, key = lambda x:x.fitness) \n",
        "    \n",
        "    # print('Gen', _)\n",
        "    # for p in population:\n",
        "    #     print(p.chromosome, ':', p.fitness)\n",
        "\n",
        "    ans = population[0].fitness\n",
        "\n",
        "    count = 0 \n",
        "    for i in range(len(population)):\n",
        "        if population[i].fitness == ans:\n",
        "            count += 1\n",
        "\n",
        "    if count >= percentage(90, POPULATION_SIZE):\n",
        "        break\n",
        "\n",
        "    next_generation = [] \n",
        " \n",
        "    next_generation.extend(\n",
        "        population[:int(percentage(30, POPULATION_SIZE))]\n",
        "        ) \n",
        "\n",
        "    for _ in range(int(percentage(70, POPULATION_SIZE))): \n",
        "        \n",
        "        half = int(percentage(50, POPULATION_SIZE))\n",
        "        \n",
        "        p1 = random.choice(population[:half])\n",
        "        p2 = random.choice(population[:half])\n",
        "\n",
        "        child = p1.mate(p2)\n",
        "        next_generation.append(child)\n",
        "\n",
        "    population = next_generation\n",
        "\n",
        "\n",
        "print(\"Path :\", population[0].chromosome, \", Cost :\", population[0].fitness)\n"
      ],
      "execution_count": 211,
      "outputs": [
        {
          "output_type": "stream",
          "text": [
            "Path : [0, 2, 4, 6, 5, 3, 1, 0] , Cost : 63\n"
          ],
          "name": "stdout"
        }
      ]
    },
    {
      "cell_type": "markdown",
      "metadata": {
        "id": "IZSH8riLCDQi"
      },
      "source": [
        "# Q2"
      ]
    },
    {
      "cell_type": "code",
      "metadata": {
        "id": "LJxQK5blazzg"
      },
      "source": [
        "import random\n",
        "\n",
        "POPULATION_SIZE = 200\n",
        "GENERATION_SIZE = 100\n",
        "\n",
        "def percentage(percent, whole):\n",
        "  return (percent * whole) / 100.0"
      ],
      "execution_count": 212,
      "outputs": []
    },
    {
      "cell_type": "code",
      "metadata": {
        "id": "aPdR5VFray4z"
      },
      "source": [
        "class GA: \n",
        "\n",
        "    def __init__(self, chromosome): \n",
        "        self.chromosome = chromosome  \n",
        "        self.fitness = self.calculate_fitness() \n",
        "  \n",
        "    def calculate_fitness(self):\n",
        "        s = str(self.chromosome)\n",
        "        \n",
        "        decimal = int(s[2:9], 2)\n",
        "        floating = int(s[9:], 2)\n",
        "        x = decimal + (floating / (10 ** len(str(floating))))\n",
        "        \n",
        "        if s[1] == \"1\":\n",
        "            x = -x\n",
        "        \n",
        "        self.x = x\n",
        "        return abs((9 * (x ** 5)) - (194.7 * (x ** 4)) + (1680.1 * (x ** 3)) - (7227.94 * (x ** 2)) + (15501.2 * x) - 13257.2)\n",
        "\n",
        "    def mutated_genes(self,child): \n",
        "        geneT = random.randint(1, len(child) - 1)\n",
        "\n",
        "        if child[geneT] == \"0\":\n",
        "            child[geneT] = \"1\"\n",
        "        else:\n",
        "            child[geneT] = \"0\"\n",
        "\n",
        "        return child\n",
        "  \n",
        "    def mate(self, other): \n",
        "        p1 = list(str(self.chromosome))\n",
        "        p2 = list(str(other.chromosome))\n",
        "        \n",
        "        startGene = random.randint(0, len(p1) - 2)\n",
        "        endGene = random.randint(startGene + 1, len(p2) - 1)\n",
        "\n",
        "        p2[startGene:endGene] = p1[startGene:endGene]\n",
        "        child = p2\n",
        "        \n",
        "        if random.random() < 0.05:\n",
        "            child = self.mutated_genes(child)\n",
        "        \n",
        "        return GA(int(\"\".join(child)))"
      ],
      "execution_count": 213,
      "outputs": []
    },
    {
      "cell_type": "code",
      "metadata": {
        "id": "hWDE-iamebf8",
        "colab": {
          "base_uri": "https://localhost:8080/"
        },
        "outputId": "cc9d0d16-319f-457a-d616-f3a9b0da9556"
      },
      "source": [
        "population = []\n",
        "for _ in range(POPULATION_SIZE):\n",
        "    random_gnome = '1'\n",
        "    for _ in range(15):\n",
        "        random_gnome += str(random.randint(0,1))\n",
        "    random_gnome = int(random_gnome)\n",
        "    population.append(GA(random_gnome)) \n",
        "\n",
        "for _ in range(GENERATION_SIZE):\n",
        "    population = sorted(population, key = lambda x:x.fitness) \n",
        "\n",
        "    # print('Gen', _)\n",
        "    # for p in population:\n",
        "    #     print(p.chromosome, ':', p.fitness)\n",
        "\n",
        "    if population[0].fitness < 0.02:\n",
        "        break\n",
        "\n",
        "    next_generation = []\n",
        "    next_generation.extend(population[:int(percentage(30, POPULATION_SIZE))]) \n",
        "\n",
        "    for _ in range(int(percentage(70, POPULATION_SIZE))):\n",
        "        \n",
        "        half = int(percentage(50, POPULATION_SIZE))\n",
        "\n",
        "        p1 = random.choice(population[:half])\n",
        "        p2 = random.choice(population[:half])\n",
        "\n",
        "        child = p1.mate(p2) \n",
        "        next_generation.append(child) \n",
        "\n",
        "    population = next_generation \n",
        "\n",
        "\n",
        "print('X :', population[0].x, ', Score :', population[0].fitness)\n"
      ],
      "execution_count": 214,
      "outputs": [
        {
          "output_type": "stream",
          "text": [
            "X : 4.89 , Score : 0.007818177135050064\n"
          ],
          "name": "stdout"
        }
      ]
    },
    {
      "cell_type": "markdown",
      "metadata": {
        "id": "iRqYhKw1rgUp"
      },
      "source": [
        "# <font color='red'>Submission</font>\n",
        "\n",
        "1. Sign up in [Gradescope](https://www.gradescope.com) with proper name and student ID and use the following code to join the class: <font color='red'>**D5372R**</font>\n",
        "2. Fill in your full name (seperated by single spaces) and student ID in the beginning of this notebook.\n",
        "3. After you're done with this notebook, you should do the following:\n",
        "  - Clear all outputs of the notebook.\n",
        "  ![clear all outputs](https://i.ibb.co/y6FrttB/Screen-Shot-2021-03-21-at-01-51-42.png)\n",
        "  - Run all of the cells (if you skipped a question just leave the cell unchanged), and make sure all of your outputs are correct.\n",
        "  ![run all](https://i.ibb.co/cgRcBZ0/Screen-Shot-2021-03-21-at-01-54-58.png)\n",
        "  - Save your notebook.\n",
        "  \n",
        "  - If you're using Colab, download your notebook.\n",
        "  ![download ipynb](https://i.ibb.co/2KxYM6K/Screen-Shot-2021-03-21-at-02-03-50.png)\n",
        "  \n",
        "  - Put the notebook file you just downloaded and `convert.py` in the same folder run the following command:\n",
        "  ```bash\n",
        "  python convert.py\n",
        "  ```\n",
        "  This will export your code for each question into a `.py` file.\n",
        "   \n",
        "\n",
        "  according to the question number.\n",
        "  - There are 2 assignments in Gradescope: \n",
        "\n",
        "    You should upload your **codes** and your **notebook** in `HW4` section and your final report for all of the questions as a **single pdf** file in `HW4 - Report`. Autograder will automatically check for:\n",
        "    - `CI992_HW4.ipynb`\n",
        "    - `Q1 Q1.py`\n",
        "    - `Q2 Q2.py`\n",
        "    - Your name and ID in the beginning of `.ipynb` file.\n",
        "\n",
        "    It is important that you <font color='red'>**don't**</font> change the names of these files before submission.\n",
        "\n",
        "4. If you pass the autograder, you're good to go."
      ]
    },
    {
      "cell_type": "code",
      "metadata": {
        "id": "FnTVIJyyA8nJ"
      },
      "source": [
        ""
      ],
      "execution_count": 214,
      "outputs": []
    }
  ]
}