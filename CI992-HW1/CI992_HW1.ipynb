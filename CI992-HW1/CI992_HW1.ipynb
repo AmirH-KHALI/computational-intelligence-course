{
  "nbformat": 4,
  "nbformat_minor": 0,
  "metadata": {
    "colab": {
      "name": "CI992_HW1.ipynb",
      "provenance": [],
      "collapsed_sections": [],
      "toc_visible": true
    },
    "kernelspec": {
      "display_name": "Python 3",
      "language": "python",
      "name": "python3"
    },
    "language_info": {
      "codemirror_mode": {
        "name": "ipython",
        "version": 3
      },
      "file_extension": ".py",
      "mimetype": "text/x-python",
      "name": "python",
      "nbconvert_exporter": "python",
      "pygments_lexer": "ipython3",
      "version": "3.8.7"
    }
  },
  "cells": [
    {
      "cell_type": "markdown",
      "metadata": {
        "id": "heBxPYfc0U22"
      },
      "source": [
        "# Your info\n",
        "\n",
        "Full name: AmirHossein Ahmadi\n",
        "\n",
        "Student ID: 97522292"
      ]
    },
    {
      "cell_type": "markdown",
      "metadata": {
        "id": "UBD007b3-ntJ"
      },
      "source": [
        "# Q1. Perceptron"
      ]
    },
    {
      "cell_type": "code",
      "metadata": {
        "id": "rld-5wsb1gZS"
      },
      "source": [
        "# Q1_graded\n",
        "# Do not change the above line.\n",
        "\n",
        "# This cell is for your imports.\n",
        "\n",
        "import numpy as np\n",
        "import matplotlib.pyplot as plt"
      ],
      "execution_count": 163,
      "outputs": []
    },
    {
      "cell_type": "code",
      "metadata": {
        "id": "PKs23FTj_SI8"
      },
      "source": [
        "# Q1_graded\n",
        "# Do not change the above line.\n",
        "\n",
        "class Q1_Perceptron:\n",
        "    def __init__(self, n, learning_rate=0.1, threshold=100):\n",
        "        self.learning_rate = learning_rate\n",
        "        self.threshold = threshold\n",
        "        self.weights = np.zeros(n + 1)\n",
        "        self.n = n\n",
        "           \n",
        "    def get_error(self, inputs, label):\n",
        "        return label - np.dot(inputs, self.weights)\n",
        "\n",
        "    def train(self, training_inputs, labels):\n",
        "        for iteration in range(self.threshold):\n",
        "            for inputs, label in zip(training_inputs, labels):\n",
        "                \n",
        "                error = self.get_error(inputs, label)\n",
        "                self.weights += self.learning_rate * error * inputs\n",
        "\n",
        "                self.learning_rate = self.learning_rate *0.999"
      ],
      "execution_count": 164,
      "outputs": []
    },
    {
      "cell_type": "code",
      "metadata": {
        "id": "g5ISMYZ7_S2X",
        "colab": {
          "base_uri": "https://localhost:8080/"
        },
        "outputId": "d720a834-92d1-4087-be7a-66167bbc228c"
      },
      "source": [
        "# Q1_graded\n",
        "# Do not change the above line.\n",
        "\n",
        "# Generate data\n",
        "training_inputs = [np.array([1, -1, -1]), \n",
        "                   np.array([1, -1, 1]), \n",
        "                   np.array([1, 1, -1]), \n",
        "                   np.array([1, 1, 1])]\n",
        "labels = [1, -1, -1, -1]\n",
        "\n",
        "# Perceptron\n",
        "nor_perceptron = Q1_Perceptron(n=2, threshold=5000)\n",
        "nor_perceptron.train(training_inputs, labels)\n",
        "\n",
        "print(\"weights: \", nor_perceptron.weights)"
      ],
      "execution_count": 165,
      "outputs": [
        {
          "output_type": "stream",
          "text": [
            "weights:  [-0.5 -0.5 -0.5]\n"
          ],
          "name": "stdout"
        }
      ]
    },
    {
      "cell_type": "markdown",
      "metadata": {
        "id": "VAAR47H8-5ML"
      },
      "source": [
        "# Q2. Binary Classification"
      ]
    },
    {
      "cell_type": "code",
      "metadata": {
        "id": "LV7Xa2Sx-6cV"
      },
      "source": [
        "# Q2_graded\n",
        "# Do not change the above line.\n",
        "\n",
        "# This cell is for your imports.\n",
        "\n",
        "import numpy as np\n",
        "import matplotlib.pyplot as plt"
      ],
      "execution_count": 166,
      "outputs": []
    },
    {
      "cell_type": "code",
      "metadata": {
        "id": "bMIDe8oc_TLW"
      },
      "source": [
        "# Q2_graded\n",
        "# Do not change the above line.\n",
        "\n",
        "class Q2_Perceptron:\n",
        "    def __init__(self, n, learning_rate=0.1, threshold=100):\n",
        "        self.learning_rate = learning_rate\n",
        "        self.threshold = threshold\n",
        "        self.weights = np.zeros(n + 1)\n",
        "        self.n = n\n",
        "        self.cost = []\n",
        "           \n",
        "    def get_error(self, label, y):\n",
        "        return label - y\n",
        "\n",
        "    def train(self, training_inputs, labels):\n",
        "        for iteration in range(self.threshold):\n",
        "            loss = []\n",
        "            for inputs, label in zip(training_inputs, labels):\n",
        "                \n",
        "                y = np.dot(inputs, self.weights)\n",
        "                error = self.get_error(label, y)\n",
        "                loss.append((1 / 2) * (error**2))\n",
        "                self.weights += self.learning_rate * error * inputs\n",
        "                \n",
        "\n",
        "                self.learning_rate = self.learning_rate *0.999\n",
        "\n",
        "            self.cost.append(np.mean(loss, axis=0, keepdims=True))\n"
      ],
      "execution_count": 167,
      "outputs": []
    },
    {
      "cell_type": "code",
      "metadata": {
        "id": "M5auUdYc_Tc0",
        "colab": {
          "base_uri": "https://localhost:8080/",
          "height": 578
        },
        "outputId": "bd311735-9711-4541-8212-edeede623185"
      },
      "source": [
        "# Q2_graded\n",
        "# Do not change the above line.\n",
        "\n",
        "# Read\n",
        "X = []\n",
        "Y = []\n",
        "labels = []\n",
        "data_file = open('/content/data.txt', 'r')\n",
        "for line in data_file.readlines():\n",
        "    splited = line.split(',')\n",
        "    X.append(float(splited[0]))\n",
        "    Y.append(float(splited[1]))\n",
        "    if float(splited[2]) == 0: labels.append(-1)\n",
        "    else: labels.append(1)\n",
        "\n",
        "# Normalize\n",
        "X = X - np.mean(X, axis=0, keepdims=True)\n",
        "X = X / np.std(X, axis=0, keepdims=True)\n",
        "Y = Y - np.mean(Y, axis=0, keepdims=True)\n",
        "Y = Y / np.std(Y, axis=0, keepdims=True)\n",
        "\n",
        "# Generate training inputs\n",
        "training_inputs = []\n",
        "for x, y in zip(X, Y):\n",
        "    training_inputs.append(np.array([1, x, y]))\n",
        "\n",
        "# Train\n",
        "perceptron = Q2_Perceptron(n=2)\n",
        "perceptron.train(training_inputs, labels)\n",
        "print('Weights: ', perceptron.weights, '\\n')\n",
        "\n",
        "# Plot perceptron\n",
        "for x, y, label in zip(X, Y, labels):\n",
        "    if label == 1: plt.scatter(x, y, marker='.', color = '#ff0000')\n",
        "    else: plt.scatter(x, y, marker='*', color = '#0000ff')\n",
        "\n",
        "x = np.linspace(-2, 2, 400)\n",
        "weights = perceptron.weights\n",
        "y = -1 * ((weights[1] / weights[2]) * x + (weights[0] / weights[2]))\n",
        "plt.plot(x, y, color = '#00ff00')\n",
        "plt.show()\n",
        "\n",
        "# Plot Mistakes\n",
        "print()\n",
        "plt.plot(perceptron.cost)\n",
        "plt.xlabel('Iteration')\n",
        "plt.ylabel('Cost')\n",
        "plt.show()"
      ],
      "execution_count": 168,
      "outputs": [
        {
          "output_type": "stream",
          "text": [
            "Weights:  [ 0.2001195  -0.57273446  0.48858351] \n",
            "\n"
          ],
          "name": "stdout"
        },
        {
          "output_type": "display_data",
          "data": {
            "image/png": "[encoded data removed]",
            "text/plain": [
              "<Figure size 432x288 with 1 Axes>"
            ]
          },
          "metadata": {
            "tags": [],
            "needs_background": "light"
          }
        },
        {
          "output_type": "stream",
          "text": [
            "\n"
          ],
          "name": "stdout"
        },
        {
          "output_type": "display_data",
          "data": {
            "image/png": "[encoded data removed]",
            "text/plain": [
              "<Figure size 432x288 with 1 Axes>"
            ]
          },
          "metadata": {
            "tags": [],
            "needs_background": "light"
          }
        }
      ]
    },
    {
      "cell_type": "markdown",
      "metadata": {
        "id": "CxsVeXUQfMsu"
      },
      "source": [
        "# Q4. MLP"
      ]
    },
    {
      "cell_type": "code",
      "metadata": {
        "id": "wpWMwI6z--GX"
      },
      "source": [
        "# Q4_graded\n",
        "# Do not change the above line.\n",
        "\n",
        "# This cell is for your imports.\n",
        "\n",
        "from keras.layers import *\n",
        "from keras.optimizers import *\n",
        "from keras.models import Sequential\n",
        "from keras.datasets import mnist\n",
        "from keras.utils import to_categorical\n",
        "import numpy as np\n",
        "import matplotlib.pyplot as plt"
      ],
      "execution_count": 169,
      "outputs": []
    },
    {
      "cell_type": "code",
      "metadata": {
        "id": "frBeD-ka_UAJ",
        "colab": {
          "base_uri": "https://localhost:8080/",
          "height": 1000
        },
        "outputId": "c47a3274-18d3-4f6e-fff3-7901189a415b"
      },
      "source": [
        "# Q4_graded\n",
        "# Do not change the above line.\n",
        "\n",
        "# Load\n",
        "(X_train, Y_train), (X_test, Y_test) = mnist.load_data()\n",
        "\n",
        "# Normalize\n",
        "X_train = X_train.reshape(X_train.shape[0], 784)\n",
        "X_train = X_train.astype('float32')\n",
        "X_train /= 255\n",
        "Y_train = to_categorical(Y_train, 10)\n",
        "\n",
        "# Create the model\n",
        "model = Sequential()\n",
        "model.add(Dense(350, input_shape=(784,), activation='relu'))\n",
        "model.add(Dense(50, activation='relu'))\n",
        "model.add(Dense(10, activation='softmax'))\n",
        "\n",
        "# Train\n",
        "model.compile(loss='categorical_crossentropy', optimizer='adam', metrics=['acc'])\n",
        "train_history = model.fit(X_train, Y_train, epochs=30, batch_size=250)\n",
        "\n",
        "# Plot loss\n",
        "loss = train_history.history['loss']\n",
        "plt.plot(loss)\n",
        "plt.xlabel('Iteration')\n",
        "plt.ylabel('loss')\n",
        "plt.show()\n",
        "\n",
        "# Plot accuracy\n",
        "acc = train_history.history['acc']\n",
        "plt.plot(acc)\n",
        "plt.xlabel('Iteration')\n",
        "plt.ylabel('accuracy')\n",
        "plt.show()\n",
        "\n",
        "# Test the model after training\n",
        "X_test = X_test.reshape(X_test.shape[0], 784)\n",
        "X_test = X_test.astype('float32')\n",
        "X_test /= 255\n",
        "Y_test = to_categorical(Y_test, 10)\n",
        "\n",
        "test_results = model.evaluate(X_test, Y_test)\n",
        "print(f'Test results - Loss: {test_results[0]} - Accuracy: {test_results[1]}%')"
      ],
      "execution_count": 170,
      "outputs": [
        {
          "output_type": "stream",
          "text": [
            "Epoch 1/30\n",
            "240/240 [==============================] - 3s 12ms/step - loss: 0.6252 - acc: 0.8311\n",
            "Epoch 2/30\n",
            "240/240 [==============================] - 3s 12ms/step - loss: 0.1363 - acc: 0.9614\n",
            "Epoch 3/30\n",
            "240/240 [==============================] - 3s 12ms/step - loss: 0.0876 - acc: 0.9739\n",
            "Epoch 4/30\n",
            "240/240 [==============================] - 3s 11ms/step - loss: 0.0603 - acc: 0.9826\n",
            "Epoch 5/30\n",
            "240/240 [==============================] - 3s 12ms/step - loss: 0.0491 - acc: 0.9857\n",
            "Epoch 6/30\n",
            "240/240 [==============================] - 3s 12ms/step - loss: 0.0368 - acc: 0.9893\n",
            "Epoch 7/30\n",
            "240/240 [==============================] - 3s 11ms/step - loss: 0.0264 - acc: 0.9929\n",
            "Epoch 8/30\n",
            "240/240 [==============================] - 3s 12ms/step - loss: 0.0214 - acc: 0.9937\n",
            "Epoch 9/30\n",
            "240/240 [==============================] - 3s 12ms/step - loss: 0.0156 - acc: 0.9961\n",
            "Epoch 10/30\n",
            "240/240 [==============================] - 3s 12ms/step - loss: 0.0126 - acc: 0.9970\n",
            "Epoch 11/30\n",
            "240/240 [==============================] - 3s 11ms/step - loss: 0.0106 - acc: 0.9971\n",
            "Epoch 12/30\n",
            "240/240 [==============================] - 3s 11ms/step - loss: 0.0086 - acc: 0.9982\n",
            "Epoch 13/30\n",
            "240/240 [==============================] - 3s 11ms/step - loss: 0.0068 - acc: 0.9984\n",
            "Epoch 14/30\n",
            "240/240 [==============================] - 3s 11ms/step - loss: 0.0058 - acc: 0.9986\n",
            "Epoch 15/30\n",
            "240/240 [==============================] - 3s 12ms/step - loss: 0.0079 - acc: 0.9976\n",
            "Epoch 16/30\n",
            "240/240 [==============================] - 3s 11ms/step - loss: 0.0081 - acc: 0.9974\n",
            "Epoch 17/30\n",
            "240/240 [==============================] - 3s 11ms/step - loss: 0.0045 - acc: 0.9990\n",
            "Epoch 18/30\n",
            "240/240 [==============================] - 3s 12ms/step - loss: 0.0026 - acc: 0.9996\n",
            "Epoch 19/30\n",
            "240/240 [==============================] - 3s 12ms/step - loss: 0.0053 - acc: 0.9986\n",
            "Epoch 20/30\n",
            "240/240 [==============================] - 3s 12ms/step - loss: 0.0092 - acc: 0.9969\n",
            "Epoch 21/30\n",
            "240/240 [==============================] - 3s 12ms/step - loss: 0.0043 - acc: 0.9988\n",
            "Epoch 22/30\n",
            "240/240 [==============================] - 3s 12ms/step - loss: 0.0118 - acc: 0.9963\n",
            "Epoch 23/30\n",
            "240/240 [==============================] - 3s 12ms/step - loss: 0.0074 - acc: 0.9974\n",
            "Epoch 24/30\n",
            "240/240 [==============================] - 3s 12ms/step - loss: 8.8453e-04 - acc: 0.9999\n",
            "Epoch 25/30\n",
            "240/240 [==============================] - 3s 12ms/step - loss: 2.4674e-04 - acc: 1.0000\n",
            "Epoch 26/30\n",
            "240/240 [==============================] - 3s 12ms/step - loss: 1.9277e-04 - acc: 1.0000\n",
            "Epoch 27/30\n",
            "240/240 [==============================] - 3s 12ms/step - loss: 1.4086e-04 - acc: 1.0000\n",
            "Epoch 28/30\n",
            "240/240 [==============================] - 3s 11ms/step - loss: 1.1665e-04 - acc: 1.0000\n",
            "Epoch 29/30\n",
            "240/240 [==============================] - 3s 11ms/step - loss: 1.0399e-04 - acc: 1.0000\n",
            "Epoch 30/30\n",
            "240/240 [==============================] - 3s 12ms/step - loss: 8.9030e-05 - acc: 1.0000\n"
          ],
          "name": "stdout"
        },
        {
          "output_type": "display_data",
          "data": {
            "image/png": "[encoded data removed]",
            "text/plain": [
              "<Figure size 432x288 with 1 Axes>"
            ]
          },
          "metadata": {
            "tags": [],
            "needs_background": "light"
          }
        },
        {
          "output_type": "display_data",
          "data": {
            "image/png": "[encoded data removed]",
            "text/plain": [
              "<Figure size 432x288 with 1 Axes>"
            ]
          },
          "metadata": {
            "tags": [],
            "needs_background": "light"
          }
        },
        {
          "output_type": "stream",
          "text": [
            "313/313 [==============================] - 1s 2ms/step - loss: 0.0904 - acc: 0.9828\n",
            "Test results - Loss: 0.09036742895841599 - Accuracy: 0.9828000068664551%\n"
          ],
          "name": "stdout"
        }
      ]
    },
    {
      "cell_type": "code",
      "metadata": {
        "id": "kTmDh0Tw_Tuy"
      },
      "source": [
        "# Q4_graded\n",
        "# Do not change the above line.\n",
        "\n",
        "# This cell is for your codes."
      ],
      "execution_count": 171,
      "outputs": []
    },
    {
      "cell_type": "markdown",
      "metadata": {
        "id": "XYu2rMtB_FxI"
      },
      "source": [
        "# Q5. Back-Propagation"
      ]
    },
    {
      "cell_type": "code",
      "metadata": {
        "id": "zbCqds5p_Gx2"
      },
      "source": [
        "# Q5_graded\n",
        "# Do not change the above line.\n",
        "\n",
        "# This cell is for your imports\n",
        "\n",
        "import numpy as np\n",
        "import matplotlib.pyplot as plt"
      ],
      "execution_count": 172,
      "outputs": []
    },
    {
      "cell_type": "code",
      "metadata": {
        "id": "_DkIgkeD_Ubv"
      },
      "source": [
        "# Q5_graded\n",
        "# Do not change the above line.\n",
        "\n",
        "# This cell is for your codes."
      ],
      "execution_count": 173,
      "outputs": []
    },
    {
      "cell_type": "code",
      "metadata": {
        "id": "dVLmzv43_UrQ"
      },
      "source": [
        "# Q5_graded\n",
        "# Do not change the above line.\n",
        "\n",
        "# This cell is for your codes."
      ],
      "execution_count": 174,
      "outputs": []
    },
    {
      "cell_type": "markdown",
      "metadata": {
        "id": "iRqYhKw1rgUp"
      },
      "source": [
        "# <font color='red'>Submission</font>\n",
        "\n",
        "1. Sign up in [Gradescope](https://www.gradescope.com) with proper name and student ID and use the following code to join the class: <font color='red'>**D5372R**</font>\n",
        "2. Fill in your full name (seperated by single spaces) and student ID in the beginning of this notebook.\n",
        "3. After you're done with this notebook, you should do the following:\n",
        "  - Clear all outputs of the notebook.\n",
        "  ![clear all outputs](https://i.ibb.co/y6FrttB/Screen-Shot-2021-03-21-at-01-51-42.png)\n",
        "  - Run all of the cells (if you skipped a question just leave the cell unchanged), and make sure all of your outputs are correct.\n",
        "  ![run all](https://i.ibb.co/cgRcBZ0/Screen-Shot-2021-03-21-at-01-54-58.png)\n",
        "  - Save your notebook.\n",
        "  \n",
        "  - If you're using Colab, download your notebook.\n",
        "  ![download ipynb](https://i.ibb.co/2KxYM6K/Screen-Shot-2021-03-21-at-02-03-50.png)\n",
        "  \n",
        "  - Put the notebook file you just downloaded and `convert.py` in the same folder run the following command:\n",
        "  ```bash\n",
        "  python convert.py\n",
        "  ```\n",
        "  This will export your code for each question into a `.py` file.\n",
        "    - **Note**: if you want to add more cells, add this to the **first** line of the cell:\n",
        "  ```python\n",
        "  # Q5_graded\n",
        "  ```\n",
        "  according to the question number.\n",
        "  - There are 2 assignments in Gradescope:\n",
        "\n",
        "    ![assignments](https://i.ibb.co/10GMhGM/Screen-Shot-2021-03-21-at-02-16-25.png)\n",
        "  \n",
        "    You should upload your **codes** and your **notebook** in `HW1` section and your final report for all of the questions as a **single pdf** file in `HW1 - Report`. Autograder will automatically check for:\n",
        "    - `CI992_HW1.ipynb`\n",
        "    - `Q1.py`\n",
        "    - `Q2.py`\n",
        "    - `Q4.py`\n",
        "    - `Q5.py`\n",
        "    - Your name and ID in the beginning of `.ipynb` file.\n",
        "\n",
        "    It is important that you <font color='red'>**don't**</font> change the names of these files before submission.\n",
        "\n",
        "4. If you pass the autograder, you're good to go."
      ]
    },
    {
      "cell_type": "code",
      "metadata": {
        "id": "aAFst4FCJP91"
      },
      "source": [
        ""
      ],
      "execution_count": 174,
      "outputs": []
    }
  ]
}